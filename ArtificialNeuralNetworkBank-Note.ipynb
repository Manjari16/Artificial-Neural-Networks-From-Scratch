{
 "cells": [
  {
   "cell_type": "code",
   "execution_count": 101,
   "id": "aa6d9c76",
   "metadata": {},
   "outputs": [
    {
     "name": "stderr",
     "output_type": "stream",
     "text": [
      "Matplotlib is building the font cache; this may take a moment.\n"
     ]
    }
   ],
   "source": [
    "#importing deps\n",
    "import pandas as pd\n",
    "from sklearn.datasets import load_iris\n",
    "from sklearn.preprocessing import LabelEncoder\n",
    "from sklearn.metrics import confusion_matrix\n",
    "from sklearn.metrics import cohen_kappa_score\n",
    "from random import seed\n",
    "from random import randrange\n",
    "from random import random\n",
    "from math import exp\n",
    "import numpy as np\n",
    "from scipy.optimize import minimize\n",
    "import matplotlib.pyplot as plt\n"
   ]
  },
  {
   "cell_type": "code",
   "execution_count": 84,
   "id": "a8bf2eb4",
   "metadata": {},
   "outputs": [],
   "source": [
    "# Load the dataset from the CSV file\n",
    "url = 'https://archive.ics.uci.edu/ml/machine-learning-databases/00267/data_banknote_authentication.txt'\n",
    "banknote_df = pd.read_csv(url, header=None)\n"
   ]
  },
  {
   "cell_type": "code",
   "execution_count": 85,
   "id": "3345df0a",
   "metadata": {},
   "outputs": [
    {
     "data": {
      "text/plain": [
       "(1372, 5)"
      ]
     },
     "execution_count": 85,
     "metadata": {},
     "output_type": "execute_result"
    }
   ],
   "source": [
    "banknote_df.shape"
   ]
  },
  {
   "cell_type": "code",
   "execution_count": 86,
   "id": "86e0c0d4",
   "metadata": {},
   "outputs": [],
   "source": [
    "# Split a dataset into k folds\n",
    "def cross_validation_split(df, n_folds):\n",
    "    df_split = list()\n",
    "    df_copy = df.copy()\n",
    "    fold_size = int(len(df) / n_folds)\n",
    "    for i in range(n_folds):\n",
    "        fold = df_copy.sample(n=fold_size, replace=False)\n",
    "        df_copy = df_copy.drop(fold.index)\n",
    "        df_split.append(fold)\n",
    "    return df_split"
   ]
  },
  {
   "cell_type": "code",
   "execution_count": 87,
   "id": "f51d88a3",
   "metadata": {},
   "outputs": [],
   "source": [
    "# Calculate accuracy percentage\n",
    "def accuracy_met(actual, predicted):\n",
    "    # Convert input lists to Pandas Series for easy comparison\n",
    "    actual_series = pd.Series(actual)\n",
    "    predicted_series = pd.Series(predicted)\n",
    "\n",
    "    # Count the number of correct predictions\n",
    "    correct = (actual_series == predicted_series).sum()\n",
    "\n",
    "    # Calculate and return the accuracy as a percentage\n",
    "    accuracy = (correct / len(actual)) * 100.0\n",
    "    return accuracy"
   ]
  },
  {
   "cell_type": "code",
   "execution_count": 88,
   "id": "69b39ae7",
   "metadata": {},
   "outputs": [],
   "source": [
    "def run_algorithm(dataset, algorithm, n_folds, *args):\n",
    "    # Define a function to calculate accuracy percentage\n",
    "\n",
    "    # Split the dataset into cross-validation folds\n",
    "    folds = cross_validation_split(dataset, n_folds)\n",
    "\n",
    "    # Initialize a list to store accuracy scores for each fold\n",
    "    scores = list()\n",
    "\n",
    "    for i in range(n_folds):\n",
    "        # Extract the test set for this fold\n",
    "        test_set = folds[i]\n",
    "\n",
    "        # Combine all other folds to form the training set\n",
    "        train_folds = [f for j, f in enumerate(folds) if j != i]\n",
    "        train_set = pd.concat(train_folds)\n",
    "\n",
    "        # Extract the actual target values for the test set\n",
    "        actual = test_set.iloc[:, -1].tolist()\n",
    "\n",
    "        # Make a copy of the test set and remove the target column for predictions\n",
    "        test_set_copy = test_set.copy()\n",
    "        test_set_copy.iloc[:, -1] = None\n",
    "        \n",
    "        print(f\"For Fold {i+1}:\")\n",
    "\n",
    "        # Make predictions using the algorithm (function) with given arguments\n",
    "        predicted = algorithm(train_set, test_set_copy, *args)\n",
    "        \n",
    "        accuracy = accuracy_met(actual, predicted)\n",
    "        cm = confusion_matrix(actual, predicted)\n",
    "        \n",
    "        print(\"Confusion Matrix:\")\n",
    "        print(cm)\n",
    "\n",
    "        FP = cm.sum(axis=0) - np.diag(cm)\n",
    "        FN = cm.sum(axis=1) - np.diag(cm)\n",
    "        TP = np.diag(cm)\n",
    "        TN = cm.sum() - (FP + FN + TP)\n",
    "\n",
    "        TPR = TP / (TP + FN)\n",
    "        TNR = TN / (TN + FP)\n",
    "        Precision = TP / (TP + FP)\n",
    "        Recall = TP / (TP + FN)\n",
    "        Acc = (TP + TN) / (TP + TN + FP + FN)\n",
    "        Fscore = 2 * (Precision * Recall) / (Precision + Recall)\n",
    "        k = cohen_kappa_score(actual, predicted)\n",
    "\n",
    "        print(f\"False Positives: {FP}\")\n",
    "        print(f\"False Negatives: {FN}\")\n",
    "        print(f\"True Positives: {TP}\")\n",
    "        print(f\"True Negatives: {TN}\")\n",
    "        print(f\"Sensitivity (True Positive Rate): {TPR}\")\n",
    "        print(f\"Specificity (True Negative Rate): {TNR}\")\n",
    "        print(f\"Precision: {Precision}\")\n",
    "        print(f\"Recall: {Recall}\")\n",
    "        print(f\"Accuracy: {Acc}\")\n",
    "        print(f\"F1 Score: {Fscore}\")\n",
    "        print(f\"Cohen's Kappa: {k}\")\n",
    "\n",
    "        scores.append(accuracy)\n",
    "        print('\\n\\n')\n",
    "\n",
    "    return scores"
   ]
  },
  {
   "cell_type": "code",
   "execution_count": 89,
   "id": "cdc055ba",
   "metadata": {},
   "outputs": [],
   "source": [
    "# Calculate neuron activation for an input\n",
    "def activate(weights, inputs):\n",
    "    # Add bias weight to the inputs\n",
    "    inputs_with_bias = inputs + [weights[-1]]\n",
    "\n",
    "    # Convert the weights and inputs to Pandas Series for element-wise multiplication\n",
    "    weights_series = pd.Series(weights[:-1])  # Exclude the bias weight\n",
    "    inputs_series = pd.Series(inputs_with_bias)\n",
    "\n",
    "    # Calculate the activation using element-wise multiplication and sum\n",
    "    activation = (weights_series * inputs_series).sum()\n",
    "\n",
    "    return activation"
   ]
  },
  {
   "cell_type": "code",
   "execution_count": 90,
   "id": "4c1b822d",
   "metadata": {},
   "outputs": [],
   "source": [
    "#Softmax Activation function\n",
    "def softmax(logits):\n",
    "    # Compute the exponential of each element in the logits array\n",
    "    exp_logits = np.exp(logits)\n",
    "\n",
    "    # Calculate the sum of exponential logits for normalization\n",
    "    sum_exp_logits = np.sum(exp_logits)\n",
    "\n",
    "    # Calculate the softmax probabilities for each class\n",
    "    softmax_probs = exp_logits / sum_exp_logits\n",
    "\n",
    "    return softmax_probs\n"
   ]
  },
  {
   "cell_type": "code",
   "execution_count": 91,
   "id": "720e1237",
   "metadata": {},
   "outputs": [],
   "source": [
    "# Forward propagate input to a network output\n",
    "def forward_propagate(network, row):\n",
    "    inputs = row\n",
    "\n",
    "    for layer in network:\n",
    "        new_inputs = []\n",
    "        neuron_net= []\n",
    "        for neuron in layer:\n",
    "            activation = activate(neuron['weights'], inputs)\n",
    "            neuron_net.append(activation)\n",
    "        new_inputs= softmax(neuron_net)\n",
    "        for i, neuron in enumerate(layer):\n",
    "            neuron['output']= new_inputs[i]\n",
    "        inputs = new_inputs\n",
    "    return inputs"
   ]
  },
  {
   "cell_type": "code",
   "execution_count": 92,
   "id": "3e8afa69",
   "metadata": {},
   "outputs": [],
   "source": [
    "def loss(network,expected):\n",
    "    layer= network[len(network)-1] #getting output layer\n",
    "    loss=[]\n",
    "    for i, neuron in enumerate(layer):\n",
    "        loss.append(expected[i] * np.log(neuron['output']))\n",
    "    return -sum(loss)"
   ]
  },
  {
   "cell_type": "code",
   "execution_count": 93,
   "id": "6e877d4c",
   "metadata": {},
   "outputs": [],
   "source": [
    "# Calculate the derivative of an neuron output\n",
    "def transfer_derivative(output):\n",
    "        return output * (1.0 - output)"
   ]
  },
  {
   "cell_type": "code",
   "execution_count": 94,
   "id": "582499f2",
   "metadata": {},
   "outputs": [],
   "source": [
    "# Backpropagate error and store in neurons\n",
    "def backward_propagate_error(network, expected):\n",
    "        for i in reversed(range(len(network))):\n",
    "                layer = network[i]\n",
    "                errors = list()\n",
    "                if i != len(network)-1: #if not output layer\n",
    "                        for j in range(len(layer)):\n",
    "                                error = 0.0\n",
    "                                for neuron in network[i + 1]:\n",
    "                                        error += (neuron['weights'][j] * neuron['delta'])\n",
    "                                errors.append(error)\n",
    "                else: #for output layer\n",
    "                        for j in range(len(layer)):\n",
    "                                neuron = layer[j]\n",
    "                                errors.append(expected[j] - neuron['output'])\n",
    "                for j in range(len(layer)):\n",
    "                        neuron = layer[j]\n",
    "                        neuron['delta'] = errors[j] * transfer_derivative(neuron['output'])"
   ]
  },
  {
   "cell_type": "code",
   "execution_count": 95,
   "id": "6e5a08b4",
   "metadata": {},
   "outputs": [],
   "source": [
    "# Update network weights with error\n",
    "def update_weights(network, row, l_rate):\n",
    "        for i in range(len(network)):\n",
    "                inputs = row[:-1]                \n",
    "                if i != 0: #if not input layer\n",
    "                        inputs = [neuron['output'] for neuron in network[i - 1]]\n",
    "                for neuron in network[i]:\n",
    "                        for j in range(len(inputs)):\n",
    "                                temp = l_rate * neuron['delta'] * inputs[j] + mu * neuron['prev'][j]\n",
    "                                \n",
    "                                neuron['weights'][j] += temp\n",
    "                                neuron['prev'][j] = temp\n",
    "                        temp = l_rate * neuron['delta'] + mu * neuron['prev'][-1]\n",
    "                        neuron['weights'][-1] += temp\n",
    "                        neuron['prev'][-1] = temp"
   ]
  },
  {
   "cell_type": "code",
   "execution_count": 104,
   "id": "b1a75b59",
   "metadata": {},
   "outputs": [],
   "source": [
    "# Train a network for a fixed number of epochs\n",
    "def train_network(network, train, l_rate, n_epoch, n_outputs):\n",
    "    Total_losses=[]\n",
    "    for epoch in range(n_epoch):\n",
    "        loss_agr= []\n",
    "        i=0\n",
    "        for _, row in train.iterrows():\n",
    "            outputs = forward_propagate(network, row.iloc[:4].values.tolist())\n",
    "            expected = [0 for i in range(n_outputs)]\n",
    "            expected[int(row[4])] = 1\n",
    "            loss_agr.append(loss(network,expected))\n",
    "            backward_propagate_error(network, expected)\n",
    "            update_weights(network, row.values.tolist(), l_rate)\n",
    "            i+=1\n",
    "        Total_losses.append(sum(loss_agr)/i)\n",
    "    \n",
    "    index_range = range(len(Total_losses))\n",
    "    plt.plot(index_range, Total_losses)\n",
    "    plt.xlabel('epoch')\n",
    "    plt.ylabel('Loss Mean')\n",
    "    plt.title('Plot between epoch and Loss')\n",
    "    plt.xticks(index_range)\n",
    "    plt.show()\n",
    "\n",
    "\n",
    "\n",
    "\n",
    "\n",
    "\n",
    "\n",
    "    "
   ]
  },
  {
   "cell_type": "code",
   "execution_count": 97,
   "id": "53408ff8",
   "metadata": {},
   "outputs": [],
   "source": [
    "# Initialize a network\n",
    "def initialize_network(n_inputs, n_hidden, n_outputs):\n",
    "        network = list()\n",
    "        hidden_layer = [{'weights':[random() for i in range(n_inputs + 1)], 'prev':[0 for i in range(n_inputs+1)]} for i in range(n_hidden)]        \n",
    "        network.append(hidden_layer)\n",
    "        output_layer = [{'weights':[random() for i in range(n_hidden + 1)],'prev':[0 for i in range(n_hidden+1)]} for i in range(n_outputs)]\n",
    "        network.append(output_layer)\n",
    "        return network"
   ]
  },
  {
   "cell_type": "code",
   "execution_count": 98,
   "id": "e4885fa6",
   "metadata": {},
   "outputs": [],
   "source": [
    "# Make a prediction with a network\n",
    "def predict(network, row):\n",
    "        outputs = forward_propagate(network, row)\n",
    "        return np.argmax(outputs)"
   ]
  },
  {
   "cell_type": "code",
   "execution_count": 99,
   "id": "cc702bf5",
   "metadata": {},
   "outputs": [],
   "source": [
    "# Backpropagation Algorithm With Stochastic Gradient Descent\n",
    "def back_propagation(train, test, l_rate, n_epoch, n_hidden):\n",
    "        n_inputs = train.shape[1] - 1\n",
    "        n_outputs = len(set([value for value in train.iloc[:, -1]]))\n",
    "        network = initialize_network(n_inputs, n_hidden, n_outputs)\n",
    "        train_network(network, train, l_rate, n_epoch, n_outputs)\n",
    "        predictions = list()\n",
    "        for _, row in test.iterrows():\n",
    "                prediction = predict(network, row.iloc[:4].values.tolist())\n",
    "                predictions.append(prediction)\n",
    "        return(predictions)"
   ]
  },
  {
   "cell_type": "code",
   "execution_count": 105,
   "id": "a12847ff",
   "metadata": {
    "scrolled": false
   },
   "outputs": [
    {
     "name": "stdout",
     "output_type": "stream",
     "text": [
      "For Fold 1:\n"
     ]
    },
    {
     "data": {
      "image/png": "[encoded data removed]",
      "text/plain": [
       "<Figure size 432x288 with 1 Axes>"
      ]
     },
     "metadata": {
      "needs_background": "light"
     },
     "output_type": "display_data"
    },
    {
     "name": "stdout",
     "output_type": "stream",
     "text": [
      "Confusion Matrix:\n",
      "[[158   0]\n",
      " [  0 116]]\n",
      "False Positives: [0 0]\n",
      "False Negatives: [0 0]\n",
      "True Positives: [158 116]\n",
      "True Negatives: [116 158]\n",
      "Sensitivity (True Positive Rate): [1. 1.]\n",
      "Specificity (True Negative Rate): [1. 1.]\n",
      "Precision: [1. 1.]\n",
      "Recall: [1. 1.]\n",
      "Accuracy: [1. 1.]\n",
      "F1 Score: [1. 1.]\n",
      "Cohen's Kappa: 1.0\n",
      "\n",
      "\n",
      "\n",
      "For Fold 2:\n"
     ]
    },
    {
     "data": {
      "image/png": "[encoded data removed]",
      "text/plain": [
       "<Figure size 432x288 with 1 Axes>"
      ]
     },
     "metadata": {
      "needs_background": "light"
     },
     "output_type": "display_data"
    },
    {
     "name": "stdout",
     "output_type": "stream",
     "text": [
      "Confusion Matrix:\n",
      "[[152   0]\n",
      " [  0 122]]\n",
      "False Positives: [0 0]\n",
      "False Negatives: [0 0]\n",
      "True Positives: [152 122]\n",
      "True Negatives: [122 152]\n",
      "Sensitivity (True Positive Rate): [1. 1.]\n",
      "Specificity (True Negative Rate): [1. 1.]\n",
      "Precision: [1. 1.]\n",
      "Recall: [1. 1.]\n",
      "Accuracy: [1. 1.]\n",
      "F1 Score: [1. 1.]\n",
      "Cohen's Kappa: 1.0\n",
      "\n",
      "\n",
      "\n",
      "For Fold 3:\n"
     ]
    },
    {
     "data": {
      "image/png": "[encoded data removed]",
      "text/plain": [
       "<Figure size 432x288 with 1 Axes>"
      ]
     },
     "metadata": {
      "needs_background": "light"
     },
     "output_type": "display_data"
    },
    {
     "name": "stdout",
     "output_type": "stream",
     "text": [
      "Confusion Matrix:\n",
      "[[147   0]\n",
      " [  0 127]]\n",
      "False Positives: [0 0]\n",
      "False Negatives: [0 0]\n",
      "True Positives: [147 127]\n",
      "True Negatives: [127 147]\n",
      "Sensitivity (True Positive Rate): [1. 1.]\n",
      "Specificity (True Negative Rate): [1. 1.]\n",
      "Precision: [1. 1.]\n",
      "Recall: [1. 1.]\n",
      "Accuracy: [1. 1.]\n",
      "F1 Score: [1. 1.]\n",
      "Cohen's Kappa: 1.0\n",
      "\n",
      "\n",
      "\n",
      "For Fold 4:\n"
     ]
    },
    {
     "data": {
      "image/png": "[encoded data removed]",
      "text/plain": [
       "<Figure size 432x288 with 1 Axes>"
      ]
     },
     "metadata": {
      "needs_background": "light"
     },
     "output_type": "display_data"
    },
    {
     "name": "stdout",
     "output_type": "stream",
     "text": [
      "Confusion Matrix:\n",
      "[[144   0]\n",
      " [  0 130]]\n",
      "False Positives: [0 0]\n",
      "False Negatives: [0 0]\n",
      "True Positives: [144 130]\n",
      "True Negatives: [130 144]\n",
      "Sensitivity (True Positive Rate): [1. 1.]\n",
      "Specificity (True Negative Rate): [1. 1.]\n",
      "Precision: [1. 1.]\n",
      "Recall: [1. 1.]\n",
      "Accuracy: [1. 1.]\n",
      "F1 Score: [1. 1.]\n",
      "Cohen's Kappa: 1.0\n",
      "\n",
      "\n",
      "\n",
      "For Fold 5:\n"
     ]
    },
    {
     "data": {
      "image/png": "[encoded data removed]",
      "text/plain": [
       "<Figure size 432x288 with 1 Axes>"
      ]
     },
     "metadata": {
      "needs_background": "light"
     },
     "output_type": "display_data"
    },
    {
     "name": "stdout",
     "output_type": "stream",
     "text": [
      "Confusion Matrix:\n",
      "[[159   0]\n",
      " [  0 115]]\n",
      "False Positives: [0 0]\n",
      "False Negatives: [0 0]\n",
      "True Positives: [159 115]\n",
      "True Negatives: [115 159]\n",
      "Sensitivity (True Positive Rate): [1. 1.]\n",
      "Specificity (True Negative Rate): [1. 1.]\n",
      "Precision: [1. 1.]\n",
      "Recall: [1. 1.]\n",
      "Accuracy: [1. 1.]\n",
      "F1 Score: [1. 1.]\n",
      "Cohen's Kappa: 1.0\n",
      "\n",
      "\n",
      "\n"
     ]
    }
   ],
   "source": [
    "# Test Backprop on Seeds dataset\n",
    "seed(1)\n",
    "n_folds = 5\n",
    "l_rate = 0.1\n",
    "mu=0.001\n",
    "n_epoch = 20\n",
    "n_hidden = 4\n",
    "scores = run_algorithm(banknote_df, back_propagation, n_folds, l_rate, n_epoch, n_hidden)"
   ]
  },
  {
   "cell_type": "code",
   "execution_count": 106,
   "id": "e5a7ac08",
   "metadata": {},
   "outputs": [
    {
     "name": "stdout",
     "output_type": "stream",
     "text": [
      "scores: [100.0, 100.0, 100.0, 100.0, 100.0]\n",
      "average score: 100.0\n"
     ]
    }
   ],
   "source": [
    "print(f\"scores: {scores}\")\n",
    "print(f\"average score: {sum(scores)/len(scores)}\")"
   ]
  },
  {
   "cell_type": "code",
   "execution_count": null,
   "id": "bd81fd79",
   "metadata": {},
   "outputs": [],
   "source": []
  }
 ],
 "metadata": {
  "kernelspec": {
   "display_name": "Python 3 (ipykernel)",
   "language": "python",
   "name": "python3"
  },
  "language_info": {
   "codemirror_mode": {
    "name": "ipython",
    "version": 3
   },
   "file_extension": ".py",
   "mimetype": "text/x-python",
   "name": "python",
   "nbconvert_exporter": "python",
   "pygments_lexer": "ipython3",
   "version": "3.9.12"
  }
 },
 "nbformat": 4,
 "nbformat_minor": 5
}
